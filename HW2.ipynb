{
 "cells": [
  {
   "cell_type": "code",
   "execution_count": 27,
   "metadata": {},
   "outputs": [],
   "source": [
    "import numpy as np\n",
    "import matplotlib.pyplot as plt\n",
    "import pylab\n",
    "from numpy.linalg import matrix_power\n",
    "from numpy import linalg\n"
   ]
  },
  {
   "cell_type": "code",
   "execution_count": 28,
   "metadata": {},
   "outputs": [
    {
     "name": "stdout",
     "output_type": "stream",
     "text": [
      "[[1.19124622 0.99170129]\n",
      " [0.99170129 0.85356521]]\n"
     ]
    }
   ],
   "source": [
    "# Construct the transfer matrix at temperature T with external field B\n",
    "J = 1.0\n",
    "kB = 2.0\n",
    "def transfer_matrix(T, B):\n",
    "    beta = 1/(kB*T)\n",
    "    return np.array ([[np.exp(beta*J+beta*B), np.exp(-beta*J)],\n",
    "                     [np.exp(-beta*J), np.exp(beta*J-beta*B)]])\n",
    "\n",
    "T = transfer_matrix(1, 0)\n",
    "print(format(T))"
   ]
  },
  {
   "cell_type": "code",
   "execution_count": 98,
   "metadata": {},
   "outputs": [
    {
     "name": "stdout",
     "output_type": "stream",
     "text": [
      "transfer matrix 2.910807473398626 0.8074743550604188\n",
      "exact results 2.910807473398626 0.8074743550604186\n"
     ]
    }
   ],
   "source": [
    "#Find the eivenvalues of the transfer matrix and compare to the exact results.\n",
    "T=1\n",
    "B=1\n",
    "[l1, l2],_ =np.linalg.eig(transfer_matrix(T,B))\n",
    "def exact(T, B):\n",
    "    beta = 1/(kB*T)\n",
    "    l1_exact = np.exp(beta*J)*np.cosh(beta*B) + np.sqrt(np.exp(-2*beta*J) + np.exp(2*beta*J)*np.sinh(beta*B)**2)\n",
    "    l2_exact = np.exp(beta*J)*np.cosh(beta*B) - np.sqrt(np.exp(-2*beta*J) + np.exp(2*beta*J)*np.sinh(beta*B)**2)\n",
    "    return l1_exact, l2_exact\n",
    "\n",
    "l1_exact, l2_exact = exact(T, B)\n",
    "print (\"transfer matrix\", l1, l2)\n",
    "print ('exact results', l1_exact, l2_exact)"
   ]
  },
  {
   "cell_type": "code",
   "execution_count": 114,
   "metadata": {},
   "outputs": [
    {
     "name": "stdout",
     "output_type": "stream",
     "text": [
      "T=1 , B=1 , N=20\n",
      "(1906644064.2873652,)\n",
      "1906644064.2734787\n"
     ]
    }
   ],
   "source": [
    "#Evaluate the partition function Z at different system size N and T, B. Compare to the exact results.\n",
    "T=1\n",
    "B=1\n",
    "N=20\n",
    "print('T=1 , B=1 , N=20')\n",
    "def partition_func(T, B, N):\n",
    "    U = transfer_matrix(T, B)\n",
    "    Z = np.trace(np.linalg.matrix_power(U, N))\n",
    "    return Z, \n",
    "\n",
    "print( partition_func(T, B, N))\n",
    "\n",
    "def partition_func_exact(T, B, N):\n",
    "    beta = 1 / (kB*T)\n",
    "    Z = (np.exp(beta*J)*np.cosh(beta*B) + np.sqrt(np.exp(2*beta*J)*np.sinh(beta*B)**2 + np.exp(-2*beta*J)))**N\n",
    "    return Z\n",
    "\n",
    "print(partition_func_exact(T, B, N))\n",
    "\n"
   ]
  },
  {
   "cell_type": "code",
   "execution_count": 115,
   "metadata": {},
   "outputs": [
    {
     "name": "stdout",
     "output_type": "stream",
     "text": [
      "T=5 , B=10 , N=15\n",
      "(56823727.50093313,)\n",
      "56823727.50093317\n"
     ]
    }
   ],
   "source": [
    "print('T=5 , B=10 , N=15')\n",
    "T=5\n",
    "B=10\n",
    "N=15\n",
    "\n",
    "def partition_func(T, B, N):\n",
    "    U = transfer_matrix(T, B)\n",
    "    Z = np.trace(np.linalg.matrix_power(U, N))\n",
    "    return Z, \n",
    "\n",
    "print(partition_func(T, B, N))\n",
    "\n",
    "def partition_func_exact(T, B, N):\n",
    "    beta = 1 / (kB*T)\n",
    "    Z = (np.exp(beta*J)*np.cosh(beta*B) + np.sqrt(np.exp(2*beta*J)*np.sinh(beta*B)**2 + np.exp(-2*beta*J)))**N\n",
    "    return Z\n",
    "\n",
    "print(partition_func_exact(T, B, N))\n"
   ]
  },
  {
   "cell_type": "code",
   "execution_count": 157,
   "metadata": {},
   "outputs": [
    {
     "data": {
      "text/plain": [
       "Text(0.5, 1.0, 'N = 100')"
      ]
     },
     "execution_count": 157,
     "metadata": {},
     "output_type": "execute_result"
    },
    {
     "data": {
      "image/png": "[encoded data removed]",
      "text/plain": [
       "<Figure size 1440x1440 with 1 Axes>"
      ]
     },
     "metadata": {
      "needs_background": "light"
     },
     "output_type": "display_data"
    },
    {
     "data": {
      "image/png": "[encoded data removed]",
      "text/plain": [
       "<Figure size 1440x1440 with 1 Axes>"
      ]
     },
     "metadata": {
      "needs_background": "light"
     },
     "output_type": "display_data"
    },
    {
     "data": {
      "image/png": "[encoded data removed]",
      "text/plain": [
       "<Figure size 1440x1440 with 1 Axes>"
      ]
     },
     "metadata": {
      "needs_background": "light"
     },
     "output_type": "display_data"
    },
    {
     "data": {
      "image/png": "[encoded data removed]",
      "text/plain": [
       "<Figure size 1440x1440 with 1 Axes>"
      ]
     },
     "metadata": {
      "needs_background": "light"
     },
     "output_type": "display_data"
    }
   ],
   "source": [
    "#For a fixed N, T, B, evaluate S_0 S_j where j=0,1,... N\n",
    "#Plot S_0 S_j up to j=N/2 and show that it decays exponentially, try several N,B,T\n",
    "def S0Sj(T, B, N, j):\n",
    "    U = transfer_matrix(T, B)\n",
    "    I = impurity_matrix()\n",
    "    Z_S0Sj = I\n",
    "    for i in range(N):\n",
    "        Z = U @ U\n",
    "        if i == j:\n",
    "            Z_S0Sj = Z_S0Sj @ I @ U   \n",
    "        else:\n",
    "            Z_S0Sj = Z_S0Sj @ U\n",
    "        S0Sj = np.trace(Z_S0Sj) / np.trace(Z)\n",
    "    return S0Sj\n",
    "\n",
    "def correlation_func(T, B, N):\n",
    "    correlation_func = np.empty(0)\n",
    "    for i in range(N//2):\n",
    "        correlation_func = np.append(correlation_func, S0Sj(T, B, N, i))\n",
    "    return correlation_func\n",
    "N = 10\n",
    "T = 1\n",
    "B = 0\n",
    "j = 10\n",
    "plt.figure(figsize=(20, 20))\n",
    "plt.subplot(5, 3, 1)\n",
    "plt.plot(np.arange(N//2), correlation_func(T, B, N), 'o')\n",
    "plt.xlabel('j ', fontsize=20) \n",
    "plt.ylabel('S_0 S_j', fontsize=20)\n",
    "plt.title('N = 10')\n",
    "N = 30\n",
    "T = 1\n",
    "B = 0\n",
    "j = 10\n",
    "plt.figure(figsize=(20, 20))\n",
    "plt.subplot(5, 3, 1)\n",
    "plt.plot(np.arange(N//2), correlation_func(T, B, N), 'o')\n",
    "plt.xlabel('j ', fontsize=20) \n",
    "plt.ylabel('S_0 S_j', fontsize=20)\n",
    "plt.title('N = 30')\n",
    "N = 50\n",
    "T = 1\n",
    "B = 0\n",
    "j = 10\n",
    "plt.figure(figsize=(20, 20))\n",
    "plt.subplot(5, 3, 2)\n",
    "plt.plot(np.arange(N//2), correlation_func(T, B, N), 'o')\n",
    "plt.xlabel('j ', fontsize=20) \n",
    "plt.ylabel('S_0 S_j', fontsize=20)\n",
    "plt.title('N = 50')\n",
    "N = 100\n",
    "T = 1\n",
    "B = 0\n",
    "j = 10\n",
    "plt.figure(figsize=(20, 20))\n",
    "plt.subplot(5, 3, 3)\n",
    "plt.plot(np.arange(N//2), correlation_func(T, B, N), 'o')\n",
    "plt.xlabel('j ', fontsize=20) \n",
    "plt.ylabel('S_0 S_j', fontsize=20)\n",
    "plt.title('N = 100')"
   ]
  },
  {
   "cell_type": "code",
   "execution_count": 216,
   "metadata": {},
   "outputs": [
    {
     "data": {
      "text/plain": [
       "Text(0.5, 1.0, 'N = 800')"
      ]
     },
     "execution_count": 216,
     "metadata": {},
     "output_type": "execute_result"
    },
    {
     "data": {
      "image/png": "[encoded data removed]",
      "text/plain": [
       "<Figure size 720x720 with 1 Axes>"
      ]
     },
     "metadata": {
      "needs_background": "light"
     },
     "output_type": "display_data"
    }
   ],
   "source": [
    "N = 800\n",
    "T = 5\n",
    "B = 5\n",
    "j = 500\n",
    "plt.figure(figsize=(10, 10))\n",
    "\n",
    "plt.plot(np.arange(N//2), correlation_func(T, B, N), 'o')\n",
    "plt.xlabel('j ', fontsize=20) \n",
    "plt.ylabel('S_0 S_j', fontsize=20)\n",
    "plt.title('N = 800')"
   ]
  },
  {
   "cell_type": "code",
   "execution_count": 217,
   "metadata": {},
   "outputs": [
    {
     "data": {
      "text/plain": [
       "Text(0.5, 1.0, 'N = 100, T = 0.070513')"
      ]
     },
     "execution_count": 217,
     "metadata": {},
     "output_type": "execute_result"
    },
    {
     "data": {
      "image/png": "[encoded data removed]",
      "text/plain": [
       "<Figure size 720x720 with 1 Axes>"
      ]
     },
     "metadata": {
      "needs_background": "light"
     },
     "output_type": "display_data"
    }
   ],
   "source": [
    "N = 100\n",
    "T = 0.070513\n",
    "B = 0\n",
    "j = 1\n",
    "plt.figure(figsize=(10, 10))\n",
    "\n",
    "plt.plot(np.arange(N//2), correlation_func(T, B, N), 'o')\n",
    "plt.xlabel('j ', fontsize=20) \n",
    "plt.ylabel('S_0 S_j', fontsize=20)\n",
    "plt.title('N = 100, T = 0.070513')"
   ]
  },
  {
   "cell_type": "code",
   "execution_count": null,
   "metadata": {},
   "outputs": [],
   "source": []
  }
 ],
 "metadata": {
  "kernelspec": {
   "display_name": "Python 3",
   "language": "python",
   "name": "python3"
  },
  "language_info": {
   "codemirror_mode": {
    "name": "ipython",
    "version": 3
   },
   "file_extension": ".py",
   "mimetype": "text/x-python",
   "name": "python",
   "nbconvert_exporter": "python",
   "pygments_lexer": "ipython3",
   "version": "3.7.4"
  }
 },
 "nbformat": 4,
 "nbformat_minor": 4
}
